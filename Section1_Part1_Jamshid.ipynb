{
 "cells": [
  {
   "cell_type": "code",
   "execution_count": 78,
   "id": "3d61eb73",
   "metadata": {},
   "outputs": [
    {
     "name": "stdout",
     "output_type": "stream",
     "text": [
      "Dice of white player is [3]\n",
      "5\n",
      "Dice of black player is [2]\n",
      "5\n",
      "Position of white: 6 and black: 6 after round: 1\n",
      "Dice of white player is [6]\n",
      "55\n",
      "Dice of black player is [2]\n",
      "5\n",
      "Position of white: [55] and black: 11 after round: 2\n",
      "Dice of white player is [2]\n",
      "5\n",
      "Dice of black player is [4]\n",
      "5\n",
      "Position of white: [58] and black: 16 after round: 3\n",
      "Dice of white player is [4]\n",
      "5\n",
      "Dice of black player is [2]\n",
      "5\n",
      "Position of white: [59] and black: 21 after round: 4\n",
      "Dice of white player is [1]\n",
      "5\n",
      "Dice of black player is [6]\n"
     ]
    },
    {
     "ename": "KeyboardInterrupt",
     "evalue": "Interrupted by user",
     "output_type": "error",
     "traceback": [
      "\u001b[1;31m---------------------------------------------------------------------------\u001b[0m",
      "\u001b[1;31mKeyboardInterrupt\u001b[0m                         Traceback (most recent call last)",
      "Input \u001b[1;32mIn [78]\u001b[0m, in \u001b[0;36m<cell line: 8>\u001b[1;34m()\u001b[0m\n\u001b[0;32m     31\u001b[0m     \u001b[38;5;28mprint\u001b[39m(\u001b[38;5;124m'\u001b[39m\u001b[38;5;124mWait until you get 6 now motherfucker\u001b[39m\u001b[38;5;124m'\u001b[39m)\n\u001b[0;32m     32\u001b[0m \u001b[38;5;28;01melse\u001b[39;00m:\n\u001b[1;32m---> 33\u001b[0m     black \u001b[38;5;241m=\u001b[39m black \u001b[38;5;241m+\u001b[39m \u001b[38;5;28mint\u001b[39m(\u001b[38;5;28;43minput\u001b[39;49m\u001b[43m(\u001b[49m\u001b[43m)\u001b[49m)\n\u001b[0;32m     34\u001b[0m     \u001b[38;5;28;01mif\u001b[39;00m black\u001b[38;5;241m>\u001b[39m\u001b[38;5;241m32\u001b[39m:\n\u001b[0;32m     35\u001b[0m         black \u001b[38;5;241m=\u001b[39m black \u001b[38;5;241m-\u001b[39m play_black\n",
      "File \u001b[1;32m~\\anaconda3\\lib\\site-packages\\ipykernel\\kernelbase.py:1075\u001b[0m, in \u001b[0;36mKernel.raw_input\u001b[1;34m(self, prompt)\u001b[0m\n\u001b[0;32m   1071\u001b[0m \u001b[38;5;28;01mif\u001b[39;00m \u001b[38;5;129;01mnot\u001b[39;00m \u001b[38;5;28mself\u001b[39m\u001b[38;5;241m.\u001b[39m_allow_stdin:\n\u001b[0;32m   1072\u001b[0m     \u001b[38;5;28;01mraise\u001b[39;00m StdinNotImplementedError(\n\u001b[0;32m   1073\u001b[0m         \u001b[38;5;124m\"\u001b[39m\u001b[38;5;124mraw_input was called, but this frontend does not support input requests.\u001b[39m\u001b[38;5;124m\"\u001b[39m\n\u001b[0;32m   1074\u001b[0m     )\n\u001b[1;32m-> 1075\u001b[0m \u001b[38;5;28;01mreturn\u001b[39;00m \u001b[38;5;28;43mself\u001b[39;49m\u001b[38;5;241;43m.\u001b[39;49m\u001b[43m_input_request\u001b[49m\u001b[43m(\u001b[49m\n\u001b[0;32m   1076\u001b[0m \u001b[43m    \u001b[49m\u001b[38;5;28;43mstr\u001b[39;49m\u001b[43m(\u001b[49m\u001b[43mprompt\u001b[49m\u001b[43m)\u001b[49m\u001b[43m,\u001b[49m\n\u001b[0;32m   1077\u001b[0m \u001b[43m    \u001b[49m\u001b[38;5;28;43mself\u001b[39;49m\u001b[38;5;241;43m.\u001b[39;49m\u001b[43m_parent_ident\u001b[49m\u001b[43m[\u001b[49m\u001b[38;5;124;43m\"\u001b[39;49m\u001b[38;5;124;43mshell\u001b[39;49m\u001b[38;5;124;43m\"\u001b[39;49m\u001b[43m]\u001b[49m\u001b[43m,\u001b[49m\n\u001b[0;32m   1078\u001b[0m \u001b[43m    \u001b[49m\u001b[38;5;28;43mself\u001b[39;49m\u001b[38;5;241;43m.\u001b[39;49m\u001b[43mget_parent\u001b[49m\u001b[43m(\u001b[49m\u001b[38;5;124;43m\"\u001b[39;49m\u001b[38;5;124;43mshell\u001b[39;49m\u001b[38;5;124;43m\"\u001b[39;49m\u001b[43m)\u001b[49m\u001b[43m,\u001b[49m\n\u001b[0;32m   1079\u001b[0m \u001b[43m    \u001b[49m\u001b[43mpassword\u001b[49m\u001b[38;5;241;43m=\u001b[39;49m\u001b[38;5;28;43;01mFalse\u001b[39;49;00m\u001b[43m,\u001b[49m\n\u001b[0;32m   1080\u001b[0m \u001b[43m\u001b[49m\u001b[43m)\u001b[49m\n",
      "File \u001b[1;32m~\\anaconda3\\lib\\site-packages\\ipykernel\\kernelbase.py:1120\u001b[0m, in \u001b[0;36mKernel._input_request\u001b[1;34m(self, prompt, ident, parent, password)\u001b[0m\n\u001b[0;32m   1117\u001b[0m             \u001b[38;5;28;01mbreak\u001b[39;00m\n\u001b[0;32m   1118\u001b[0m \u001b[38;5;28;01mexcept\u001b[39;00m \u001b[38;5;167;01mKeyboardInterrupt\u001b[39;00m:\n\u001b[0;32m   1119\u001b[0m     \u001b[38;5;66;03m# re-raise KeyboardInterrupt, to truncate traceback\u001b[39;00m\n\u001b[1;32m-> 1120\u001b[0m     \u001b[38;5;28;01mraise\u001b[39;00m \u001b[38;5;167;01mKeyboardInterrupt\u001b[39;00m(\u001b[38;5;124m\"\u001b[39m\u001b[38;5;124mInterrupted by user\u001b[39m\u001b[38;5;124m\"\u001b[39m) \u001b[38;5;28;01mfrom\u001b[39;00m \u001b[38;5;28mNone\u001b[39m\n\u001b[0;32m   1121\u001b[0m \u001b[38;5;28;01mexcept\u001b[39;00m \u001b[38;5;167;01mException\u001b[39;00m:\n\u001b[0;32m   1122\u001b[0m     \u001b[38;5;28mself\u001b[39m\u001b[38;5;241m.\u001b[39mlog\u001b[38;5;241m.\u001b[39mwarning(\u001b[38;5;124m\"\u001b[39m\u001b[38;5;124mInvalid Message:\u001b[39m\u001b[38;5;124m\"\u001b[39m, exc_info\u001b[38;5;241m=\u001b[39m\u001b[38;5;28;01mTrue\u001b[39;00m)\n",
      "\u001b[1;31mKeyboardInterrupt\u001b[0m: Interrupted by user"
     ]
    }
   ],
   "source": [
    "#FIRST GAME\n",
    "import numpy as np\n",
    "\n",
    "play_round = 0\n",
    "white = 1\n",
    "black = 1\n",
    "\n",
    "while white<32 or black<32:\n",
    "    play_round = play_round+1\n",
    "    \n",
    "    play_white = np.random.randint(1,7, size=1)\n",
    "    print('Dice of white player is', play_white)\n",
    "#First condition: until you get 6 you cant place a piece when you are in zero position    \n",
    "    if white==0 and play_white!=6:\n",
    "        print('Wait until you get 6 now motherfucker')\n",
    "#Otherwise play as usual\n",
    "    else:\n",
    "        white = white + int(input())\n",
    "#Second condition: if you happen to get over 32, you cant play further but skip this round\n",
    "        if white>32:\n",
    "            white = white - play_white\n",
    "#Third condition: if white catches black after in same spot, black is kicked of to zero position\n",
    "        if white == 14 + black and white-play_white<14 + black and black<16:\n",
    "            black = 0\n",
    "        if white == black - 14 and white-play_white<14 + black and black>14 and black<30:\n",
    "            black = 0\n",
    "    \n",
    "    play_black = np.random.randint(1,7, size=1)\n",
    "    print('Dice of black player is', play_black)\n",
    "    if black==0 and play_black!=6:\n",
    "        print('Wait until you get 6 now motherfucker')\n",
    "    else:\n",
    "        black = black + int(input())\n",
    "        if black>32:\n",
    "            black = black - play_black\n",
    "        \n",
    "        if black == 14 + white and black-play_black<14 + white and white<16:\n",
    "            white = 0\n",
    "        if black == white - 14 and black-play_black<14 + white and white>14 and white<30:\n",
    "            white = 0\n",
    "    \n",
    "    \n",
    "        \n",
    "    print('Position of white:', white, 'and black:', black, 'after round:', play_round)\n",
    "#Condition 4: if one of the players arrive 32, Game is over\n",
    "    if white==32 or black==32:\n",
    "        print('GAME OVER URRA')\n",
    "        break\n"
   ]
  },
  {
   "cell_type": "code",
   "execution_count": null,
   "id": "645c7592",
   "metadata": {},
   "outputs": [],
   "source": []
  }
 ],
 "metadata": {
  "kernelspec": {
   "display_name": "Python 3 (ipykernel)",
   "language": "python",
   "name": "python3"
  },
  "language_info": {
   "codemirror_mode": {
    "name": "ipython",
    "version": 3
   },
   "file_extension": ".py",
   "mimetype": "text/x-python",
   "name": "python",
   "nbconvert_exporter": "python",
   "pygments_lexer": "ipython3",
   "version": "3.9.12"
  }
 },
 "nbformat": 4,
 "nbformat_minor": 5
}
